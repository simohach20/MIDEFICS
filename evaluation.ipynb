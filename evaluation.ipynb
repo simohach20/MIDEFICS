{
  "cells": [
    {
      "cell_type": "code",
      "execution_count": null,
      "metadata": {
        "id": "mOdJswF4zevm"
      },
      "outputs": [],
      "source": [
        "import openai\n",
        "from openai import OpenAI\n",
        "import pandas as pd\n",
        "\n",
        "GPT_API_KEY = GPT_API_KEY\n",
        "\n",
        "# Function to translate a single sentence\n",
        "client = OpenAI(\n",
        "  api_key=GPT_API_KEY,\n",
        ")\n",
        "\n",
        "\n",
        "def generate_gpt(prompt):\n",
        "    completion = client.chat.completions.create(\n",
        "      model=\"gpt-4-turbo-preview\",\n",
        "      response_format={ \"type\": \"json_object\" },\n",
        "      messages=[\n",
        "        {\"role\": \"user\", \"content\": prompt}\n",
        "      ],\n",
        "      temperature=0,\n",
        "      logprobs=True,\n",
        "    )\n",
        "\n",
        "    return completion.choices[0].message.content, completion.choices[0].logprobs"
      ]
    },
    {
      "cell_type": "code",
      "execution_count": null,
      "metadata": {
        "editable": false,
        "execution": {
          "iopub.execute_input": "2024-02-28T21:00:51.724892Z",
          "iopub.status.busy": "2024-02-28T21:00:51.724462Z",
          "iopub.status.idle": "2024-02-28T21:00:51.731121Z",
          "shell.execute_reply": "2024-02-28T21:00:51.730134Z",
          "shell.execute_reply.started": "2024-02-28T21:00:51.724863Z"
        },
        "id": "v2hhbIQEzevn"
      },
      "outputs": [],
      "source": [
        "def get_prompt(question, response, ground_truth):\n",
        "    Prompt = f\"\"\"\n",
        "    ###Task Description:\n",
        "    You will be provided with a potential answer along with a ground truth answer to a given question. Your task is to evaluate the potential answer if it’s matching the ground truth answer.\n",
        "    Evaluation Steps:\n",
        "    1. Write a detailed feedback that assess the matching of the response strictly based on the given score rubric, not evaluating in general.\n",
        "    2. After writing a feedback, Assign a score for responses matching either 1 or 0, where 1 is the answer matches the ground-truth, wheras 0 when there is no match.\n",
        "    3. The output format should look as follows: [RESULT] (either 1 or 0)\\\"\n",
        "    4. Please do not generate any other opening, closing, and explanations.\n",
        "    ###The instruction to evaluate:\n",
        "    {question}\n",
        "    ###Response to evaluate:\n",
        "    {response}\n",
        "    ###Reference Answer:\n",
        "    {ground_truth}\n",
        "    ###Score Rubrics:\n",
        "    Score (0 or 1): “Response Match: Evaluate how much the evaluated answer matches the true answer.”\n",
        "    ###Feedback (scores ONLY):\n",
        "    the output should be in the json format like this :\n",
        "    (Response Match: score 0 or 1)\n",
        "    \"\"\"\n",
        "    return Prompt"
      ]
    },
    {
      "cell_type": "code",
      "execution_count": null,
      "metadata": {
        "editable": false,
        "execution": {
          "iopub.execute_input": "2024-02-28T21:00:53.99363Z",
          "iopub.status.busy": "2024-02-28T21:00:53.993158Z",
          "iopub.status.idle": "2024-02-28T21:00:56.679506Z",
          "shell.execute_reply": "2024-02-28T21:00:56.678611Z",
          "shell.execute_reply.started": "2024-02-28T21:00:53.993601Z"
        },
        "id": "9HngCGZ7zevo"
      },
      "outputs": [],
      "source": [
        "import json\n",
        "data = {\n",
        "        \"question\" : \"What is the formula of chlorophyll\",\n",
        "        'response' : 'Chlorophyll is the pigmet used in photosynthesis, it helpes in generating oxygen. C55H72MgN4O5',\n",
        "        'ground_truth' : 'The formula of chlorophyll is C55H72MgN4O5'\n",
        "    }\n",
        "\n",
        "prompt = get_prompt(data['question'], data['response'], data['ground_truth'])\n",
        "feedback = generate_gpt(prompt)\n",
        "print(feedback)\n"
      ]
    },
    {
      "cell_type": "code",
      "execution_count": null,
      "metadata": {
        "editable": false,
        "execution": {
          "iopub.execute_input": "2024-02-28T21:18:40.978464Z",
          "iopub.status.busy": "2024-02-28T21:18:40.97725Z",
          "iopub.status.idle": "2024-02-28T21:18:40.983505Z",
          "shell.execute_reply": "2024-02-28T21:18:40.982621Z",
          "shell.execute_reply.started": "2024-02-28T21:18:40.97839Z"
        },
        "id": "8YS60qiqzevp"
      },
      "outputs": [],
      "source": [
        "def G_eval(data):\n",
        "    scores = [compute_score(feedback) for feedback in [generate_gpt(get_prompt(data['question'], data['response'], data['ground_truth'])) for data in data]]\n",
        "    return scores"
      ]
    },
    {
      "cell_type": "code",
      "execution_count": null,
      "metadata": {
        "editable": false,
        "execution": {
          "iopub.execute_input": "2024-02-28T21:18:41.393883Z",
          "iopub.status.busy": "2024-02-28T21:18:41.39353Z",
          "iopub.status.idle": "2024-02-28T21:18:45.184942Z",
          "shell.execute_reply": "2024-02-28T21:18:45.18392Z",
          "shell.execute_reply.started": "2024-02-28T21:18:41.393856Z"
        },
        "id": "Quxvde5Ozevq"
      },
      "outputs": [],
      "source": [
        "good_data = [\n",
        "    {\n",
        "        \"question\" : \"What is the formula of chlorophyll\",\n",
        "        'response' : 'Chlorophyll a pigment usuall found in the leaves has the formula C55H72MgN4O5.',\n",
        "        'ground_truth' : 'The formula of chlorophyll is C55H72MgN4O5'\n",
        "    }\n",
        "]\n",
        "\n",
        "bad_data = [\n",
        "    {\n",
        "        \"question\" : \"What is the formula of chlorophyll\",\n",
        "        'response' : 'Chlorophyll is the pigmet used in photosynthesis, it helpes in generating oxygen',\n",
        "        'ground_truth' : 'The formula of chlorophyll is C55H72MgN4O5'\n",
        "    }\n",
        "]\n",
        "\n",
        "data = good_data + bad_data\n",
        "G_eval(data)"
      ]
    },
    {
      "cell_type": "code",
      "execution_count": null,
      "metadata": {
        "editable": false,
        "id": "80ujD32-zevs"
      },
      "outputs": [],
      "source": []
    }
  ],
  "metadata": {
    "kaggle": {
      "accelerator": "gpu",
      "dataSources": [],
      "dockerImageVersionId": 30648,
      "isGpuEnabled": true,
      "isInternetEnabled": true,
      "language": "python",
      "sourceType": "notebook"
    },
    "kernelspec": {
      "display_name": "Python 3 (ipykernel)",
      "language": "python",
      "name": "python3"
    },
    "language_info": {
      "codemirror_mode": {
        "name": "ipython",
        "version": 3
      },
      "file_extension": ".py",
      "mimetype": "text/x-python",
      "name": "python",
      "nbconvert_exporter": "python",
      "pygments_lexer": "ipython3",
      "version": "3.9.7"
    },
    "colab": {
      "provenance": []
    }
  },
  "nbformat": 4,
  "nbformat_minor": 0
}